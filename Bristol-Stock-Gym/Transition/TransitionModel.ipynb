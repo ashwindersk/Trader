{
 "cells": [
  {
   "cell_type": "code",
   "execution_count": 16,
   "metadata": {},
   "outputs": [],
   "source": [
    "from RNN import MDNRNN\n",
    "import torch\n",
    "import numpy as np \n",
    "from torch import nn\n",
    "from sklearn.preprocessing import MinMaxScaler\n",
    "from torch.autograd import Variable\n",
    "from torch.nn.utils import clip_grad_norm_\n",
    "\n"
   ]
  },
  {
   "cell_type": "code",
   "execution_count": 2,
   "metadata": {},
   "outputs": [],
   "source": [
    "################\n",
    "#  DATALOADING #\n",
    "################"
   ]
  },
  {
   "cell_type": "code",
   "execution_count": 3,
   "metadata": {},
   "outputs": [],
   "source": [
    "\n",
    "def sliding_windows(data,seq_length):\n",
    "    x = []\n",
    "    y = []\n",
    "\n",
    "    for i in range(len(data)-seq_length-1):\n",
    "        _x = data[i:(i+seq_length)]\n",
    "        _y = data[(i+1):(i+1)+seq_length]\n",
    "        x.append(_x)\n",
    "        y.append(_y)\n",
    "\n",
    "    return np.array(x),np.array(y)\n",
    "\n"
   ]
  },
  {
   "cell_type": "code",
   "execution_count": 22,
   "metadata": {},
   "outputs": [],
   "source": [
    "bsz = 64\n",
    "\n",
    "data = np.load('latent.npy')\n",
    "\n",
    "#Reshaping data and seperating training and test set\n",
    "sc = MinMaxScaler()\n",
    "data = sc.fit_transform(data.squeeze(axis = 0))\n",
    "\n",
    "seq_length = 4\n",
    "x, y = sliding_windows(data, seq_length)\n",
    "\n",
    "\n",
    "\n",
    "train_size = int(len(y) * 0.67)\n",
    "test_size = len(y) - train_size\n",
    "\n",
    "dataX = Variable(torch.Tensor(np.array(x)))\n",
    "dataY = Variable(torch.Tensor(np.array(y)))\n",
    "\n",
    "trainX = Variable(torch.Tensor(np.array(x[0:train_size])).float())\n",
    "trainY = Variable(torch.Tensor(np.array(y[0:train_size])).float())\n",
    "\n",
    "\n",
    "testX = Variable(torch.Tensor(np.array(x[train_size:len(x)])).float())\n",
    "testY = Variable(torch.Tensor(np.array(y[train_size:len(y)])).float())\n",
    "\n",
    "\n",
    "trainingset =[]\n",
    "for i in range(len(trainY)):\n",
    "    trainingset.append((trainX[i,:,:], trainY[i]))\n",
    "    \n",
    "\n",
    "\n",
    "trainloader = torch.utils.data.DataLoader(trainingset, batch_size=bsz, shuffle=False)\n",
    "\n",
    "\n",
    "\n"
   ]
  },
  {
   "cell_type": "code",
   "execution_count": 23,
   "metadata": {},
   "outputs": [],
   "source": [
    "num_epochs = 2000\n",
    "learning_rate = 1e-3\n",
    "\n",
    "input_size = 17\n",
    "hidden_size = 256\n",
    "num_layers = 1\n",
    "seq_length = 4\n",
    "num_classes = 1\n",
    "gaussians = 5\n",
    "\n",
    "mdnrnn = MDNRNN(z_size = input_size, n_hidden = hidden_size, n_gaussians = gaussians, n_layers = num_layers)\n",
    "\n",
    "\n",
    "def detach(states):\n",
    "    return [state.detach() for state in states]"
   ]
  },
  {
   "cell_type": "code",
   "execution_count": null,
   "metadata": {},
   "outputs": [
    {
     "name": "stdout",
     "output_type": "stream",
     "text": [
      "Epoch [0/500], Loss: -12585.7188\n"
     ]
    }
   ],
   "source": [
    "optimizer = torch.optim.Adam(mdnrnn.parameters(), lr = learning_rate)\n",
    "\n",
    "epochs = 500\n",
    "random = torch.zeros(200,4,17)\n",
    "\n",
    "for epoch in range(epochs):\n",
    "    # Set initial hidden and cell states\n",
    "    hidden = mdnrnn.init_hidden(bsz)\n",
    "\n",
    "    # Get mini-batch inputs and targets\n",
    "    total_loss = 0\n",
    "    for i, (inputs, targets) in enumerate(trainloader):\n",
    "        # Forward pass\n",
    "        if inputs.size(0) != bsz:\n",
    "            continue\n",
    "        hidden = detach(hidden)\n",
    "        (pi, mu, sigma), hidden = mdnrnn(inputs, hidden)\n",
    "\n",
    "        loss = mdnrnn.criterion(targets, pi, mu, sigma)\n",
    "        # Backward and optimize\n",
    "        mdnrnn.zero_grad()\n",
    "        total_loss += loss.item()\n",
    "\n",
    "        loss.backward()\n",
    "        clip_grad_norm_(mdnrnn.parameters(), 0.5)\n",
    "        optimizer.step()\n",
    "\n",
    "    if epoch % 2 == 0:\n",
    "        print ('Epoch [{}/{}], Loss: {:.4f}'\n",
    "               .format(epoch, epochs, total_loss))\n"
   ]
  },
  {
   "cell_type": "code",
   "execution_count": null,
   "metadata": {},
   "outputs": [],
   "source": [
    "import matplotlib.pyplot as plt\n",
    "\n",
    "lstm.eval()\n",
    "print(\"Before\")\n",
    "size = train_size+test_size\n",
    "train_predict = lstm(dataX[size-1000:size])\n",
    "print(\"After\")\n",
    "data_predict = train_predict.data.numpy()[0:1000]\n",
    "dataY_plot = dataY.data.numpy()[size-1000:size]\n",
    "data_predict = sc_y.inverse_transform(data_predict)\n",
    "dataY_plot = sc_y.inverse_transform(dataY_plot)\n",
    "\n",
    "#plt.axvline(x=train_size, c='r', linestyle='--')\n",
    "\n",
    "plt.plot(dataY_plot)\n",
    "plt.plot(data_predict, c='green')\n",
    "plt.suptitle('Time-Series Prediction')\n",
    "plt.show()"
   ]
  },
  {
   "cell_type": "code",
   "execution_count": null,
   "metadata": {},
   "outputs": [],
   "source": [
    "torch.save(mdnrnn.state_dict(), '../Models/transition-regression')"
   ]
  },
  {
   "cell_type": "code",
   "execution_count": null,
   "metadata": {},
   "outputs": [],
   "source": [
    "import pickle\n",
    "with open('sc_midprice', 'wb') as f:\n",
    "    pickle.dump(sc_y, f)\n",
    "    "
   ]
  },
  {
   "cell_type": "code",
   "execution_count": null,
   "metadata": {},
   "outputs": [],
   "source": []
  }
 ],
 "metadata": {
  "kernelspec": {
   "display_name": "Python 3.7.5 64-bit",
   "language": "python",
   "name": "python37564biteac121e2b5f64df2ac86de1e25af1041"
  },
  "language_info": {
   "codemirror_mode": {
    "name": "ipython",
    "version": 3
   },
   "file_extension": ".py",
   "mimetype": "text/x-python",
   "name": "python",
   "nbconvert_exporter": "python",
   "pygments_lexer": "ipython3",
   "version": "3.7.5"
  }
 },
 "nbformat": 4,
 "nbformat_minor": 4
}
