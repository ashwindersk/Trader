{
 "cells": [
  {
   "cell_type": "code",
   "execution_count": 2,
   "metadata": {},
   "outputs": [],
   "source": [
    "from LSTM import LSTM\n",
    "import torch\n",
    "import numpy as np \n",
    "from torch import nn\n",
    "from sklearn.preprocessing import MinMaxScaler\n",
    "from torch.autograd import Variable\n"
   ]
  },
  {
   "cell_type": "code",
   "execution_count": 3,
   "metadata": {},
   "outputs": [],
   "source": [
    "################\n",
    "#  DATALOADING #\n",
    "################"
   ]
  },
  {
   "cell_type": "code",
   "execution_count": 4,
   "metadata": {},
   "outputs": [],
   "source": [
    "\n",
    "def sliding_windows(x_data,y_data,seq_length):\n",
    "    x = []\n",
    "    y = []\n",
    "\n",
    "    for i in range(len(y_data)-seq_length-1):\n",
    "        _x = x_data[i:(i+seq_length)]\n",
    "        _y = y_data[i+seq_length]\n",
    "        x.append(_x)\n",
    "        y.append(_y)\n",
    "\n",
    "    return np.array(x),np.array(y)\n",
    "\n"
   ]
  },
  {
   "cell_type": "code",
   "execution_count": 5,
   "metadata": {},
   "outputs": [],
   "source": [
    "\n",
    "y_data = np.load('midprices.npy')\n",
    "x_data = np.load('latent.npy')\n",
    "\n",
    "#Reshaping data and seperating training and test set\n",
    "sc_x = MinMaxScaler()\n",
    "x_data = sc_x.fit_transform(x_data.squeeze(axis = 0))\n",
    "\n",
    "sc_y = MinMaxScaler()\n",
    "y_data = sc_y.fit_transform(y_data.reshape(-1,1))\n",
    "\n",
    "\n",
    "\n",
    "\n",
    "seq_length = 4\n",
    "x, y = sliding_windows(x_data,y_data, seq_length)\n",
    "\n",
    "\n",
    "\n",
    "\n",
    "\n",
    "train_size = int(len(y) * 0.67)\n",
    "test_size = len(y) - train_size\n",
    "\n",
    "dataX = Variable(torch.Tensor(np.array(x)))\n",
    "dataY = Variable(torch.Tensor(np.array(y)))\n",
    "\n",
    "trainX = Variable(torch.Tensor(np.array(x[0:train_size])))\n",
    "trainY = Variable(torch.Tensor(np.array(y[0:train_size])))\n",
    "\n",
    "\n",
    "testX = Variable(torch.Tensor(np.array(x[train_size:len(x)])))\n",
    "testY = Variable(torch.Tensor(np.array(y[train_size:len(y)])))\n",
    "\n"
   ]
  },
  {
   "cell_type": "code",
   "execution_count": 6,
   "metadata": {},
   "outputs": [
    {
     "data": {
      "text/plain": [
       "<All keys matched successfully>"
      ]
     },
     "execution_count": 6,
     "metadata": {},
     "output_type": "execute_result"
    }
   ],
   "source": [
    "num_epochs = 2000\n",
    "learning_rate = 1e-3\n",
    "\n",
    "input_size = 17\n",
    "hidden_size = 256\n",
    "num_layers = 1\n",
    "seq_length = 4\n",
    "num_classes = 1\n",
    "\n",
    "lstm = LSTM(num_classes, input_size, hidden_size, num_layers, seq_length, fc1_out = 128)\n",
    "\n",
    "lstm.load_state_dict(torch.load('../Models/state2-regression'))\n"
   ]
  },
  {
   "cell_type": "code",
   "execution_count": null,
   "metadata": {},
   "outputs": [],
   "source": [
    "print(\"hey\")\n",
    "test_hist = []\n",
    "criterion = torch.nn.MSELoss()    # mean-squared error for regression\n",
    "optimizer = torch.optim.Adam(lstm.parameters(), lr=learning_rate)\n",
    "\n",
    "for epoch in range(num_epochs):\n",
    "\n",
    "        outputs = lstm(trainX)\n",
    "\n",
    "        optimizer.zero_grad()\n",
    "    \n",
    "    # obtain the loss function\n",
    "        loss = criterion(outputs, trainY)\n",
    "    \n",
    "        loss.backward()\n",
    "    \n",
    "        optimizer.step()\n",
    "        if testX is not None:\n",
    "            with torch.no_grad():\n",
    "                y_test_pred = lstm(testX)\n",
    "                test_loss = criterion(y_test_pred.float(), testY)\n",
    "                test_hist.append( test_loss.item())\n",
    "        if epoch % 5 == 0:\n",
    "            print(\"Epoch: %d, train loss: %1.5f, test loss: %1.5f\" % (epoch, loss.item(), test_hist[epoch]))"
   ]
  },
  {
   "cell_type": "code",
   "execution_count": 10,
   "metadata": {},
   "outputs": [
    {
     "name": "stdout",
     "output_type": "stream",
     "text": [
      "Before\n",
      "After\n"
     ]
    },
    {
     "data": {
      "image/png": "[encoded data removed]",
      "text/plain": [
       "<Figure size 432x288 with 1 Axes>"
      ]
     },
     "metadata": {
      "needs_background": "light"
     },
     "output_type": "display_data"
    }
   ],
   "source": [
    "import matplotlib.pyplot as plt\n",
    "\n",
    "lstm.eval()\n",
    "print(\"Before\")\n",
    "size = train_size+test_size\n",
    "train_predict = lstm(dataX[size-1000:size])\n",
    "print(\"After\")\n",
    "data_predict = train_predict.data.numpy()[0:1000]\n",
    "dataY_plot = dataY.data.numpy()[size-1000:size]\n",
    "data_predict = sc_y.inverse_transform(data_predict)\n",
    "dataY_plot = sc_y.inverse_transform(dataY_plot)\n",
    "\n",
    "#plt.axvline(x=train_size, c='r', linestyle='--')\n",
    "\n",
    "plt.plot(dataY_plot)\n",
    "plt.plot(data_predict, c='green')\n",
    "plt.suptitle('Time-Series Prediction')\n",
    "plt.show()"
   ]
  },
  {
   "cell_type": "code",
   "execution_count": null,
   "metadata": {},
   "outputs": [],
   "source": [
    "torch.save(lstm.state_dict(), '../Models/state2-regression')"
   ]
  },
  {
   "cell_type": "code",
   "execution_count": null,
   "metadata": {},
   "outputs": [],
   "source": [
    "import pickle\n",
    "with open('sc_midprice', 'wb') as f:\n",
    "    pickle.dump(sc_y, f)\n",
    "    "
   ]
  },
  {
   "cell_type": "code",
   "execution_count": null,
   "metadata": {},
   "outputs": [],
   "source": []
  }
 ],
 "metadata": {
  "kernelspec": {
   "display_name": "Python 3.7.5 64-bit",
   "language": "python",
   "name": "python37564biteac121e2b5f64df2ac86de1e25af1041"
  },
  "language_info": {
   "codemirror_mode": {
    "name": "ipython",
    "version": 3
   },
   "file_extension": ".py",
   "mimetype": "text/x-python",
   "name": "python",
   "nbconvert_exporter": "python",
   "pygments_lexer": "ipython3",
   "version": "3.7.5"
  }
 },
 "nbformat": 4,
 "nbformat_minor": 4
}
