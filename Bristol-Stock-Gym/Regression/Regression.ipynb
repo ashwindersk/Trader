{
 "cells": [
  {
   "cell_type": "code",
   "execution_count": 1,
   "metadata": {},
   "outputs": [],
   "source": [
    "from LSTM import LSTM\n",
    "import torch\n",
    "import numpy as np \n",
    "from torch import nn\n",
    "from sklearn.preprocessing import MinMaxScaler\n",
    "from torch.autograd import Variable\n"
   ]
  },
  {
   "cell_type": "code",
   "execution_count": 2,
   "metadata": {},
   "outputs": [],
   "source": [
    "################\n",
    "#  DATALOADING #\n",
    "################"
   ]
  },
  {
   "cell_type": "code",
   "execution_count": 46,
   "metadata": {},
   "outputs": [],
   "source": [
    "\n",
    "def sliding_windows(data,seq_length):\n",
    "    x = []\n",
    "    y = []\n",
    "\n",
    "    for i in range(data.shape[1]-seq_length-1):\n",
    "        _x = data[:,i:(i+seq_length)]\n",
    "        _y = data[:,i+seq_length: i + 2*seq_length]\n",
    "        if _y.shape[1] != seq_length:\n",
    "            return np.array(x),np.array(y)\n",
    "        x.append(_x)\n",
    "        y.append(_y)\n",
    "\n",
    "    return np.array(x),np.array(y)\n",
    "\n",
    "\n",
    "\n"
   ]
  },
  {
   "cell_type": "code",
   "execution_count": 47,
   "metadata": {},
   "outputs": [],
   "source": [
    "\n",
    "data = np.load('midprices-new.npy')\n",
    "#Reshaping data and seperating training and test set\n",
    "sc = MinMaxScaler()\n",
    "data = sc.fit_transform(data.reshape(-1,1))\n",
    "data = data.reshape((1,data.shape[0]))\n",
    "seq_length = 4\n",
    "x, y = sliding_windows(data, seq_length)\n",
    "\n",
    "bsz = 64\n",
    "size = y.shape[0]\n",
    "train_size = int(size * 0.67)\n",
    "test_size = size - train_size\n",
    "\n",
    "dataX = Variable(torch.Tensor(np.array(x)))\n",
    "dataY = Variable(torch.Tensor(np.array(y)))\n",
    "\n",
    "\n",
    "trainX = dataX[0:train_size,:,:]\n",
    "trainY = dataY[0:train_size,:,:]\n",
    "\n",
    "\n",
    "testX = dataX[train_size:size, :,:]\n",
    "testY = dataY[train_size:size,:,:]\n",
    "\n",
    "trainingset =[]\n",
    "for i in range(len(trainY)):\n",
    "    trainingset.append((trainX[i,:,:], trainY[i,:,:]))\n",
    "\n",
    "\n",
    "trainloader = torch.utils.data.DataLoader(trainingset, batch_size=bsz, shuffle=False)\n"
   ]
  },
  {
   "cell_type": "code",
   "execution_count": 50,
   "metadata": {},
   "outputs": [],
   "source": [
    "num_epochs = 2000\n",
    "learning_rate = 1e-2\n",
    "\n",
    "input_size = 4\n",
    "hidden_size = 256\n",
    "num_layers = 1\n",
    "seq_length = 4\n",
    "num_classes = 4\n",
    "\n",
    "lstm = LSTM(num_classes, input_size, hidden_size, num_layers, seq_length, fc1_out = 128)\n",
    "\n"
   ]
  },
  {
   "cell_type": "code",
   "execution_count": 69,
   "metadata": {},
   "outputs": [
    {
     "name": "stdout",
     "output_type": "stream",
     "text": [
      "Epoch: 0, train loss: 0.00128, test loss: 0.00110\n",
      "Epoch: 2, train loss: 0.00130, test loss: 0.00097\n",
      "Epoch: 4, train loss: 0.00129, test loss: 0.00111\n",
      "Epoch: 6, train loss: 0.00135, test loss: 0.00102\n",
      "Epoch: 8, train loss: 0.00131, test loss: 0.00101\n",
      "Epoch: 10, train loss: 0.00134, test loss: 0.00114\n",
      "Epoch: 12, train loss: 0.00129, test loss: 0.00104\n",
      "Epoch: 14, train loss: 0.00133, test loss: 0.00085\n",
      "Epoch: 16, train loss: 0.00136, test loss: 0.00103\n",
      "Epoch: 18, train loss: 0.00131, test loss: 0.00094\n",
      "Epoch: 20, train loss: 0.00132, test loss: 0.00097\n",
      "Epoch: 22, train loss: 0.00131, test loss: 0.00090\n",
      "Epoch: 24, train loss: 0.00131, test loss: 0.00089\n",
      "Epoch: 26, train loss: 0.00128, test loss: 0.00088\n",
      "Epoch: 28, train loss: 0.00134, test loss: 0.00101\n",
      "Epoch: 30, train loss: 0.00131, test loss: 0.00115\n",
      "Epoch: 32, train loss: 0.00134, test loss: 0.00103\n",
      "Epoch: 34, train loss: 0.00128, test loss: 0.00126\n",
      "Epoch: 36, train loss: 0.00130, test loss: 0.00139\n",
      "Epoch: 38, train loss: 0.00132, test loss: 0.00103\n",
      "Epoch: 40, train loss: 0.00128, test loss: 0.00135\n",
      "Epoch: 42, train loss: 0.00129, test loss: 0.00118\n",
      "Epoch: 44, train loss: 0.00133, test loss: 0.00195\n",
      "Epoch: 46, train loss: 0.00130, test loss: 0.00100\n",
      "Epoch: 48, train loss: 0.00131, test loss: 0.00103\n",
      "Epoch: 50, train loss: 0.00128, test loss: 0.00099\n",
      "Epoch: 52, train loss: 0.00128, test loss: 0.00147\n",
      "Epoch: 54, train loss: 0.00134, test loss: 0.00122\n",
      "Epoch: 56, train loss: 0.00130, test loss: 0.00091\n",
      "Epoch: 58, train loss: 0.00132, test loss: 0.00086\n",
      "Epoch: 60, train loss: 0.00135, test loss: 0.00127\n",
      "Epoch: 62, train loss: 0.00128, test loss: 0.00104\n",
      "Epoch: 64, train loss: 0.00131, test loss: 0.00099\n",
      "Epoch: 66, train loss: 0.00130, test loss: 0.00114\n",
      "Epoch: 68, train loss: 0.00131, test loss: 0.00104\n",
      "Epoch: 70, train loss: 0.00130, test loss: 0.00090\n",
      "Epoch: 72, train loss: 0.00132, test loss: 0.00111\n",
      "Epoch: 74, train loss: 0.00132, test loss: 0.00108\n",
      "Epoch: 76, train loss: 0.00132, test loss: 0.00139\n",
      "Epoch: 78, train loss: 0.00132, test loss: 0.00097\n",
      "Epoch: 80, train loss: 0.00130, test loss: 0.00120\n",
      "Epoch: 82, train loss: 0.00129, test loss: 0.00100\n",
      "Epoch: 84, train loss: 0.00135, test loss: 0.00095\n",
      "Epoch: 86, train loss: 0.00131, test loss: 0.00118\n",
      "Epoch: 88, train loss: 0.00139, test loss: 0.00108\n",
      "Epoch: 90, train loss: 0.00132, test loss: 0.00095\n",
      "Epoch: 92, train loss: 0.00132, test loss: 0.00107\n",
      "Epoch: 94, train loss: 0.00135, test loss: 0.00114\n",
      "Epoch: 96, train loss: 0.00134, test loss: 0.00120\n",
      "Epoch: 98, train loss: 0.00129, test loss: 0.00111\n"
     ]
    },
    {
     "ename": "KeyboardInterrupt",
     "evalue": "",
     "output_type": "error",
     "traceback": [
      "\u001b[0;31m---------------------------------------------------------------------------\u001b[0m",
      "\u001b[0;31mKeyboardInterrupt\u001b[0m                         Traceback (most recent call last)",
      "\u001b[0;32m<ipython-input-69-b4a98b695f6b>\u001b[0m in \u001b[0;36m<module>\u001b[0;34m\u001b[0m\n\u001b[1;32m     13\u001b[0m         \u001b[0mloss\u001b[0m \u001b[0;34m=\u001b[0m \u001b[0mcriterion\u001b[0m\u001b[0;34m(\u001b[0m\u001b[0moutputs\u001b[0m\u001b[0;34m,\u001b[0m \u001b[0mtargets\u001b[0m\u001b[0;34m.\u001b[0m\u001b[0mto\u001b[0m\u001b[0;34m(\u001b[0m\u001b[0mdevice\u001b[0m\u001b[0;34m)\u001b[0m\u001b[0;34m)\u001b[0m\u001b[0;34m\u001b[0m\u001b[0;34m\u001b[0m\u001b[0m\n\u001b[1;32m     14\u001b[0m \u001b[0;34m\u001b[0m\u001b[0m\n\u001b[0;32m---> 15\u001b[0;31m         \u001b[0mloss\u001b[0m\u001b[0;34m.\u001b[0m\u001b[0mbackward\u001b[0m\u001b[0;34m(\u001b[0m\u001b[0;34m)\u001b[0m\u001b[0;34m\u001b[0m\u001b[0;34m\u001b[0m\u001b[0m\n\u001b[0m\u001b[1;32m     16\u001b[0m \u001b[0;34m\u001b[0m\u001b[0m\n\u001b[1;32m     17\u001b[0m         \u001b[0moptimizer\u001b[0m\u001b[0;34m.\u001b[0m\u001b[0mstep\u001b[0m\u001b[0;34m(\u001b[0m\u001b[0;34m)\u001b[0m\u001b[0;34m\u001b[0m\u001b[0;34m\u001b[0m\u001b[0m\n",
      "\u001b[0;32m/usr/local/lib/python3.7/site-packages/torch/tensor.py\u001b[0m in \u001b[0;36mbackward\u001b[0;34m(self, gradient, retain_graph, create_graph)\u001b[0m\n\u001b[1;32m    148\u001b[0m                 \u001b[0mproducts\u001b[0m\u001b[0;34m.\u001b[0m \u001b[0mDefaults\u001b[0m \u001b[0mto\u001b[0m\u001b[0;31m \u001b[0m\u001b[0;31m`\u001b[0m\u001b[0;31m`\u001b[0m\u001b[0;32mFalse\u001b[0m\u001b[0;31m`\u001b[0m\u001b[0;31m`\u001b[0m\u001b[0;34m.\u001b[0m\u001b[0;34m\u001b[0m\u001b[0;34m\u001b[0m\u001b[0m\n\u001b[1;32m    149\u001b[0m         \"\"\"\n\u001b[0;32m--> 150\u001b[0;31m         \u001b[0mtorch\u001b[0m\u001b[0;34m.\u001b[0m\u001b[0mautograd\u001b[0m\u001b[0;34m.\u001b[0m\u001b[0mbackward\u001b[0m\u001b[0;34m(\u001b[0m\u001b[0mself\u001b[0m\u001b[0;34m,\u001b[0m \u001b[0mgradient\u001b[0m\u001b[0;34m,\u001b[0m \u001b[0mretain_graph\u001b[0m\u001b[0;34m,\u001b[0m \u001b[0mcreate_graph\u001b[0m\u001b[0;34m)\u001b[0m\u001b[0;34m\u001b[0m\u001b[0;34m\u001b[0m\u001b[0m\n\u001b[0m\u001b[1;32m    151\u001b[0m \u001b[0;34m\u001b[0m\u001b[0m\n\u001b[1;32m    152\u001b[0m     \u001b[0;32mdef\u001b[0m \u001b[0mregister_hook\u001b[0m\u001b[0;34m(\u001b[0m\u001b[0mself\u001b[0m\u001b[0;34m,\u001b[0m \u001b[0mhook\u001b[0m\u001b[0;34m)\u001b[0m\u001b[0;34m:\u001b[0m\u001b[0;34m\u001b[0m\u001b[0;34m\u001b[0m\u001b[0m\n",
      "\u001b[0;32m/usr/local/lib/python3.7/site-packages/torch/autograd/__init__.py\u001b[0m in \u001b[0;36mbackward\u001b[0;34m(tensors, grad_tensors, retain_graph, create_graph, grad_variables)\u001b[0m\n\u001b[1;32m     97\u001b[0m     Variable._execution_engine.run_backward(\n\u001b[1;32m     98\u001b[0m         \u001b[0mtensors\u001b[0m\u001b[0;34m,\u001b[0m \u001b[0mgrad_tensors\u001b[0m\u001b[0;34m,\u001b[0m \u001b[0mretain_graph\u001b[0m\u001b[0;34m,\u001b[0m \u001b[0mcreate_graph\u001b[0m\u001b[0;34m,\u001b[0m\u001b[0;34m\u001b[0m\u001b[0;34m\u001b[0m\u001b[0m\n\u001b[0;32m---> 99\u001b[0;31m         allow_unreachable=True)  # allow_unreachable flag\n\u001b[0m\u001b[1;32m    100\u001b[0m \u001b[0;34m\u001b[0m\u001b[0m\n\u001b[1;32m    101\u001b[0m \u001b[0;34m\u001b[0m\u001b[0m\n",
      "\u001b[0;31mKeyboardInterrupt\u001b[0m: "
     ]
    }
   ],
   "source": [
    "\n",
    "test_hist = []\n",
    "criterion = torch.nn.MSELoss()    # mean-squared error for regression\n",
    "optimizer = torch.optim.Adam(lstm.parameters(), lr=learning_rate)\n",
    "\n",
    "for epoch in range(num_epochs):\n",
    "    total_loss = 0\n",
    "    j = 0  \n",
    "    for i, (inputs, targets) in enumerate(trainloader):\n",
    "        outputs = lstm(inputs.to(device))\n",
    "        outputs = outputs.unsqueeze(1)\n",
    "        optimizer.zero_grad()\n",
    "    # obtain the loss function\n",
    "        loss = criterion(outputs, targets.to(device))\n",
    "    \n",
    "        loss.backward()\n",
    "    \n",
    "        optimizer.step()\n",
    "        \n",
    "        total_loss += loss.item()\n",
    "        j +=1\n",
    "    if testX is not None:\n",
    "        with torch.no_grad():\n",
    "            y_test_pred = lstm(testX.to(device))\n",
    "            y_test_pred = y_test_pred.unsqueeze(1)\n",
    "            test_loss = criterion(y_test_pred.float(), testY.to(device))\n",
    "            test_hist.append( test_loss.item())\n",
    "    total_loss /=j\n",
    "    if epoch % 2 == 0:\n",
    "        print(\"Epoch: %d, train loss: %1.5f, test loss: %1.5f\" % (epoch, total_loss, test_hist[epoch]))\n",
    "        torch.save(lstm.state_dict(), f'../Models/seq-regression')"
   ]
  },
  {
   "cell_type": "code",
   "execution_count": 79,
   "metadata": {},
   "outputs": [
    {
     "name": "stdout",
     "output_type": "stream",
     "text": [
      "16467\n",
      "[[249.50000933 268.0000101  234.50000365 262.50000595]] [[248.22728 248.4066  248.87589 249.74606]]\n"
     ]
    }
   ],
   "source": [
    "import matplotlib.pyplot as plt\n",
    "\n",
    "lstm.eval()\n",
    "index = np.random.randint(testX.size(0))\n",
    "print(index)\n",
    "truth = sc.inverse_transform(testY[index,:,:].squeeze(1))\n",
    "prediction = lstm(testX[index,:,:].unsqueeze(0)).detach().numpy()\n",
    "prediction = sc.inverse_transform(prediction.squeeze(0).reshape(1,-1))\n",
    "\n",
    "print(truth,prediction)"
   ]
  },
  {
   "cell_type": "code",
   "execution_count": null,
   "metadata": {},
   "outputs": [],
   "source": []
  },
  {
   "cell_type": "code",
   "execution_count": 13,
   "metadata": {},
   "outputs": [],
   "source": [
    "import pickle\n",
    "with open('sc_midprice', 'wb') as f:\n",
    "    pickle.dump(sc, f)\n",
    "    "
   ]
  },
  {
   "cell_type": "code",
   "execution_count": null,
   "metadata": {},
   "outputs": [],
   "source": []
  }
 ],
 "metadata": {
  "kernelspec": {
   "display_name": "Python 3.7.5 64-bit",
   "language": "python",
   "name": "python37564biteac121e2b5f64df2ac86de1e25af1041"
  },
  "language_info": {
   "codemirror_mode": {
    "name": "ipython",
    "version": 3
   },
   "file_extension": ".py",
   "mimetype": "text/x-python",
   "name": "python",
   "nbconvert_exporter": "python",
   "pygments_lexer": "ipython3",
   "version": "3.7.5"
  }
 },
 "nbformat": 4,
 "nbformat_minor": 4
}
