{
 "cells": [
  {
   "cell_type": "code",
   "execution_count": 150,
   "metadata": {},
   "outputs": [],
   "source": [
    "import tensorflow as tf\n",
    "import matplotlib.pyplot as plt\n",
    "import numpy as np\n",
    "import os\n",
    "import pandas as pd\n",
    "import csv\n",
    "import itertools"
   ]
  },
  {
   "cell_type": "code",
   "execution_count": 151,
   "metadata": {},
   "outputs": [],
   "source": [
    "class LSTM():\n",
    "    \n",
    "    def __init__(self):\n",
    "        self.model     = tf.keras.models.Sequential([\n",
    "                             tf.keras.layers.LSTM(8, input_shape=x_train_uni.shape[-2:]),\n",
    "                             tf.keras.layers.Dense(1)\n",
    "                        ])\n",
    "        self.optimizer = 'Adam'\n",
    "        self.loss      = 'mae'\n",
    "        \n",
    "    def train(self,training_data,EOPCHS, EVALUATION_INTERVAL, validation_data):\n",
    "        self.model.fit(training_data, epochs=EPOCHS,\n",
    "                      steps_per_epoch=EVALUATION_INTERVAL,\n",
    "                      validation_data=validation_data, validation_steps=50)\n",
    "    def compile(self):\n",
    "        self.model.compile(optimizer=self.optimizer, loss=self.loss)\n",
    "    \n",
    "    def predict(self,data):\n",
    "        return self.model.predict(data)\n"
   ]
  },
  {
   "cell_type": "code",
   "execution_count": 152,
   "metadata": {},
   "outputs": [],
   "source": [
    "def DataLoader(fname):\n",
    "    x = []\n",
    "    y = []\n",
    "    with open(fname, 'r') as csvfile:\n",
    "            plots = csv.reader(csvfile, delimiter = \",\")\n",
    "            for row in plots:\n",
    "                    x.append(float(row[0]))\n",
    "                    y.append(float(row[1]))\n",
    "    return x,y \n",
    "\n",
    "def normalise_data(data):\n",
    "    data = tf.keras.utils.normalize(data)\n",
    "    return data[0]\n",
    "\n",
    "def univariate_data(dataset, start_index, end_index, history_size, target_size):\n",
    "    data  = []\n",
    "    labels = []\n",
    "    \n",
    "    start_index += history_size\n",
    "    if end_index is None:\n",
    "        end_index = len(dataset) - target_size\n",
    "    \n",
    "    for i in range(start_index, end_index):\n",
    "        indicies = range(i-history_size, i)\n",
    "        reshaped_data = np.reshape(dataset[indicies], (history_size,1))\n",
    "        data.append(reshaped_data)\n",
    "        labels.append(dataset[i+target_size])\n",
    "        \n",
    "    return np.array(data), np.array(labels)\n",
    "\n",
    "def create_time_steps(length):\n",
    "    return list(range(-length,0))\n",
    "\n",
    "def show_plot(plot_data, delta, title):\n",
    "    labels = ['History', 'True Future', 'Model Prediction']\n",
    "    marker = ['.-', 'rx', 'go']\n",
    "    time_steps = create_time_steps(plot_data[0].shape[0])\n",
    "    \n",
    "    if delta:\n",
    "        future = delta\n",
    "    else:\n",
    "        future = 0\n",
    "        \n",
    "    plt.title(title)\n",
    "    for i, x in enumerate(plot_data):\n",
    "        if i:\n",
    "            plt.plot(future, plot_data[i], marker[i], markersize=10,\n",
    "                label=labels[i])\n",
    "        else:\n",
    "            plt.plot(time_steps, plot_data[i].flatten(), marker[i], label=labels[i])\n",
    "    plt.legend()\n",
    "    plt.xlim([time_steps[0], (future+5)*2])\n",
    "    plt.xlabel('Time-Step')\n",
    "    plt.show()\n",
    "\n"
   ]
  },
  {
   "cell_type": "code",
   "execution_count": 153,
   "metadata": {},
   "outputs": [
    {
     "name": "stdout",
     "output_type": "stream",
     "text": [
      "7002\n"
     ]
    }
   ],
   "source": [
    "midprices_fname = '../BSE/midprice.csv'\n",
    "transactions_fname = '../BSE/transactions.csv'\n",
    "\n",
    "midprice_x, midprice_y = DataLoader(midprices_fname)\n",
    "transaction_x, transaction_y = DataLoader(transactions_fname)\n",
    "\n",
    "midprice_x, midprice_y = normalise_data(np.array(midprice_x)), normalise_data(np.array(midprice_y))\n",
    "\n",
    "transaction_x, transaction_y = normalise_data(np.array(transaction_x)), normalise_data(np.array(transaction_y))\n",
    "print(len(midprice_x))"
   ]
  },
  {
   "cell_type": "code",
   "execution_count": 154,
   "metadata": {},
   "outputs": [],
   "source": [
    "TRAIN_SPLIT = 5000\n",
    "univariate_past_history = 40\n",
    "univariate_future_target = 0\n",
    "\n",
    "x_train_uni, y_train_uni = univariate_data(midprice_y, 0, TRAIN_SPLIT,\n",
    "                                           univariate_past_history,\n",
    "                                           univariate_future_target)\n",
    "x_val_uni, y_val_uni = univariate_data(midprice_y, TRAIN_SPLIT, None,\n",
    "                                       univariate_past_history,\n",
    "                                       univariate_future_target)\n",
    "    "
   ]
  },
  {
   "cell_type": "code",
   "execution_count": 160,
   "metadata": {},
   "outputs": [
    {
     "data": {
      "text/plain": [
       "<RepeatDataset shapes: ((None, 40, 1), (None,)), types: (tf.float64, tf.float64)>"
      ]
     },
     "execution_count": 160,
     "metadata": {},
     "output_type": "execute_result"
    }
   ],
   "source": [
    "BATCH_SIZE = 256\n",
    "BUFFER_SIZE = 1000\n",
    "\n",
    "train_univariate = tf.data.Dataset.from_tensor_slices((x_train_uni, y_train_uni))\n",
    "train_univariate = train_univariate.cache().shuffle(BUFFER_SIZE).batch(BATCH_SIZE).repeat()\n",
    "\n",
    "val_univariate = tf.data.Dataset.from_tensor_slices((x_val_uni, y_val_uni))\n",
    "\n",
    "val_univariate = val_univariate.batch(BATCH_SIZE).repeat()\n",
    "val_univariate\n"
   ]
  },
  {
   "cell_type": "code",
   "execution_count": 156,
   "metadata": {},
   "outputs": [
    {
     "name": "stdout",
     "output_type": "stream",
     "text": [
      "Epoch 1/10\n",
      "300/300 [==============================] - 6s 19ms/step - loss: 0.0012 - val_loss: 0.0028\n",
      "Epoch 2/10\n",
      "300/300 [==============================] - 5s 18ms/step - loss: 8.5101e-04 - val_loss: 0.0023\n",
      "Epoch 3/10\n",
      "300/300 [==============================] - 5s 17ms/step - loss: 7.9078e-04 - val_loss: 0.0019\n",
      "Epoch 4/10\n",
      "300/300 [==============================] - 5s 17ms/step - loss: 6.5583e-04 - val_loss: 0.0014\n",
      "Epoch 5/10\n",
      "300/300 [==============================] - 5s 17ms/step - loss: 5.1580e-04 - val_loss: 0.0015\n",
      "Epoch 6/10\n",
      "300/300 [==============================] - 5s 17ms/step - loss: 5.1136e-04 - val_loss: 0.0012\n",
      "Epoch 7/10\n",
      "300/300 [==============================] - 5s 17ms/step - loss: 4.9110e-04 - val_loss: 0.0014\n",
      "Epoch 8/10\n",
      "300/300 [==============================] - 5s 17ms/step - loss: 4.2417e-04 - val_loss: 7.7255e-04\n",
      "Epoch 9/10\n",
      "300/300 [==============================] - 5s 17ms/step - loss: 3.7757e-04 - val_loss: 4.2495e-04\n",
      "Epoch 10/10\n",
      "300/300 [==============================] - 5s 17ms/step - loss: 3.5862e-04 - val_loss: 7.6297e-04\n"
     ]
    }
   ],
   "source": [
    "EVALUATION_INTERVAL = 300\n",
    "EPOCHS = 10\n",
    "midprice_model = LSTM()\n",
    "midprice_model.compile()\n",
    "midprice_model.train(train_univariate, EPOCHS, EVALUATION_INTERVAL, val_univariate )\n"
   ]
  },
  {
   "cell_type": "code",
   "execution_count": 159,
   "metadata": {},
   "outputs": [
    {
     "name": "stdout",
     "output_type": "stream",
     "text": [
      "<RepeatDataset shapes: ((None, 40, 1), (None,)), types: (tf.float64, tf.float64)>\n",
      "[0.0126252]\n"
     ]
    },
    {
     "data": {
      "image/png": "[encoded data removed]",
      "text/plain": [
       "<Figure size 432x288 with 1 Axes>"
      ]
     },
     "metadata": {
      "needs_background": "light"
     },
     "output_type": "display_data"
    },
    {
     "ename": "AttributeError",
     "evalue": "'NoneType' object has no attribute 'show'",
     "output_type": "error",
     "traceback": [
      "\u001b[0;31m---------------------------------------------------------------------------\u001b[0m",
      "\u001b[0;31mAttributeError\u001b[0m                            Traceback (most recent call last)",
      "\u001b[0;32m<ipython-input-159-a5552abdc535>\u001b[0m in \u001b[0;36m<module>\u001b[0;34m\u001b[0m\n\u001b[1;32m      5\u001b[0m         plot = show_plot([x[0].numpy(), y[0].numpy(),\n\u001b[1;32m      6\u001b[0m                     prediction], 0, 'Simple LSTM model')\n\u001b[0;32m----> 7\u001b[0;31m         \u001b[0mplot\u001b[0m\u001b[0;34m.\u001b[0m\u001b[0mshow\u001b[0m\u001b[0;34m(\u001b[0m\u001b[0;34m)\u001b[0m\u001b[0;34m\u001b[0m\u001b[0;34m\u001b[0m\u001b[0m\n\u001b[0m\u001b[1;32m      8\u001b[0m \u001b[0;34m\u001b[0m\u001b[0m\n",
      "\u001b[0;31mAttributeError\u001b[0m: 'NoneType' object has no attribute 'show'"
     ]
    }
   ],
   "source": [
    "print(val_univariate)\n",
    "for x, y in val_univariate.take(2):\n",
    "        prediction = midprice_model.predict(x)[0]\n",
    "        print (prediction)\n",
    "        plot = show_plot([x[0].numpy(), y[0].numpy(),\n",
    "                    prediction], 0, 'Simple LSTM model')\n",
    "        plot.show()\n",
    "    "
   ]
  },
  {
   "cell_type": "code",
   "execution_count": null,
   "metadata": {},
   "outputs": [],
   "source": []
  },
  {
   "cell_type": "code",
   "execution_count": null,
   "metadata": {},
   "outputs": [],
   "source": []
  }
 ],
 "metadata": {
  "kernelspec": {
   "display_name": "Python 3",
   "language": "python",
   "name": "python3"
  },
  "language_info": {
   "codemirror_mode": {
    "name": "ipython",
    "version": 3
   },
   "file_extension": ".py",
   "mimetype": "text/x-python",
   "name": "python",
   "nbconvert_exporter": "python",
   "pygments_lexer": "ipython3",
   "version": "3.7.5"
  }
 },
 "nbformat": 4,
 "nbformat_minor": 4
}
